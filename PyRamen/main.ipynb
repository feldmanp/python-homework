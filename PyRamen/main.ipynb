{
 "cells": [
  {
   "cell_type": "markdown",
   "id": "c86137d9-6513-4400-bf1c-51bb184a39da",
   "metadata": {},
   "source": [
    "1. Read the menu file and store to list of lists"
   ]
  },
  {
   "cell_type": "code",
   "execution_count": 55,
   "id": "70300b40-31d8-43aa-92f7-c2eb6821435b",
   "metadata": {},
   "outputs": [],
   "source": [
    "import csv\n",
    "\n",
    "temp_list = []\n",
    "menu = []\n",
    "\n",
    "with open(\"Resources/menu_data.csv\") as menu_file:\n",
    "    reader = csv.reader(menu_file)\n",
    "    \n",
    "    #skip the header\n",
    "    next(menu_file)\n",
    "\n",
    "    #read the values of menu\n",
    "    menu = list(reader)"
   ]
  },
  {
   "cell_type": "markdown",
   "id": "7f7567fa-fc72-426a-8acb-09988851ee2e",
   "metadata": {},
   "source": [
    "2. Read the sales file and store to list"
   ]
  },
  {
   "cell_type": "code",
   "execution_count": 36,
   "id": "e063289f-9287-4a19-b279-859e69f8bcfe",
   "metadata": {},
   "outputs": [],
   "source": [
    "sales = []\n",
    "\n",
    "with open(\"Resources/sales_data.csv\") as sales_file:\n",
    "    #skip the header\n",
    "    next(sales_file)\n",
    "\n",
    "    #Reading the sales data \n",
    "    for row in sales_file:\n",
    "        sales.append(row)"
   ]
  },
  {
   "cell_type": "markdown",
   "id": "6342a796-4a64-43df-9e63-3a438b50a027",
   "metadata": {},
   "source": [
    "3. loop through the sales and add them to the report"
   ]
  },
  {
   "cell_type": "code",
   "execution_count": 84,
   "id": "ad15bc35-1946-4fb5-a416-dfa78992cb40",
   "metadata": {},
   "outputs": [],
   "source": [
    "#initialize variables\n",
    "report = {}\n",
    "quantity = 0\n",
    "sales_item = \"\"\n",
    "menu_item = \"\"\n",
    "item = \"\"\n",
    "price = 0\n",
    "cost = 0\n",
    "profit = 0\n",
    "\n",
    "#loop over sales data and aggergate the data\n",
    "for sales_item in sales:\n",
    "    #convert the sales item to a list\n",
    "    temp_list = sales_item.split(\",\")\n",
    "    \n",
    "    #retrieve the sale details for report aggergation\n",
    "    menu_item = temp_list[4]\n",
    "    quantity = int(temp_list[3])\n",
    "    \n",
    "    #check if menu_item already in the report\n",
    "    if menu_item not in report.keys():\n",
    "        report[menu_item]= {\"01-count\": 0, \"02-revenue\": 0, \"03-cogs\": 0, \"04-profit\": 0}\n",
    "\n",
    "    for row in menu:\n",
    "        item = row[0] \n",
    "        price = float(row[3])\n",
    "        cost = float(row[4])\n",
    "        \n",
    "        #if there is a match between the sales item and menu item add the prfit to the report \n",
    "        if item.strip() == menu_item.strip():\n",
    "            profit = price - cost\n",
    "            report[menu_item][\"01-count\"] += quantity\n",
    "            report[menu_item][\"02-revenue\"] += price * quantity\n",
    "            report[menu_item][\"03-cogs\"] += cost * quantity\n",
    "            report[menu_item][\"04-profit\"] += profit * quantity"
   ]
  },
  {
   "cell_type": "code",
   "execution_count": 38,
   "id": "cfb22c2f-092c-47c8-b0a6-c2bdbdc4ced0",
   "metadata": {},
   "outputs": [],
   "source": [
    "4. Print report to file"
   ]
  },
  {
   "cell_type": "code",
   "execution_count": 98,
   "id": "abeb5a9e-b95f-4881-beea-edbdfb88a760",
   "metadata": {},
   "outputs": [],
   "source": [
    "#Create a file\n",
    "with open('pyRamen_output.txt', 'w') as f:\n",
    "    #Loop on report and write line by line\n",
    "    for key,metrics in report.items():\n",
    "        key=key.strip() #Remove the /n character to fit in one line\n",
    "        f.write('%s %s' % (key, metrics))\n",
    "        f.write('\\n')"
   ]
  },
  {
   "cell_type": "code",
   "execution_count": null,
   "id": "8401beb4-e0e0-413b-8d7a-447fe48f0a6d",
   "metadata": {},
   "outputs": [],
   "source": []
  }
 ],
 "metadata": {
  "kernelspec": {
   "display_name": "Python 3 (ipykernel)",
   "language": "python",
   "name": "python3"
  },
  "language_info": {
   "codemirror_mode": {
    "name": "ipython",
    "version": 3
   },
   "file_extension": ".py",
   "mimetype": "text/x-python",
   "name": "python",
   "nbconvert_exporter": "python",
   "pygments_lexer": "ipython3",
   "version": "3.7.13"
  }
 },
 "nbformat": 4,
 "nbformat_minor": 5
}
