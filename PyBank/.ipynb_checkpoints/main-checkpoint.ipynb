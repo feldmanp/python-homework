{
 "cells": [
  {
   "cell_type": "markdown",
   "id": "3787db8e-a354-4599-9f6d-b322f1bc7662",
   "metadata": {},
   "source": [
    "1. Read CSV File into Dictionary"
   ]
  },
  {
   "cell_type": "code",
   "execution_count": 16,
   "id": "7d0d8fda-65a7-441d-88f5-5176c03fcacf",
   "metadata": {},
   "outputs": [],
   "source": [
    "import csv\n",
    "\n",
    "budget_data_file = open(\"Resources/budget_data.csv\")\n",
    "csvreader = csv.reader(budget_data_file)\n",
    "\n",
    "#Reading the header to a separate list\n",
    "header = []\n",
    "header = next(csvreader)\n",
    "\n",
    "#Reading the days into a dictionary \n",
    "budget_months = {}\n",
    "for row in csvreader:\n",
    "        budget_months[row[0]]=row[1] \n",
    "\n",
    "#closing the file\n",
    "budget_data_file.close()"
   ]
  },
  {
   "cell_type": "markdown",
   "id": "73af80b5-c262-4a0f-83ff-c9db54d535d6",
   "metadata": {},
   "source": [
    "2. Perform the calculations"
   ]
  },
  {
   "cell_type": "code",
   "execution_count": 27,
   "id": "c873e7b0-8e21-4618-a6cb-18eaf9b6dff8",
   "metadata": {},
   "outputs": [
    {
     "name": "stdout",
     "output_type": "stream",
     "text": [
      "38382578\n"
     ]
    }
   ],
   "source": [
    "#initialise variables\n",
    "\n",
    "total_num_of_months = 0\n",
    "total_pnl = 0\n",
    "average_pnl_changes = 0\n",
    "sum_pnl_changes = 0\n",
    "max_profit_increase = 0\n",
    "max_losses_decrease = 0\n",
    "\n",
    "#Calculate the total number of months included in the dataset\n",
    "total_num_of_months = len(budget_months)\n",
    "\n",
    "#iterating over the dictionary to calculate the rest of the variables\n",
    "for month,pnl in budget_months.items():\n",
    "    #Calculate the net total amount of Profit/Losses over the entire period.\n",
    "    total_pnl += int(pnl)\n",
    "    \n",
    "    #Calculate the average of the changes in Profit/Losses over the entire period.\n",
    "    sum_pnl_changes \n",
    "    \n",
    "    #Calculate the greatest increase in profits (date and amount) over the entire period.\n",
    "\n",
    "    #Calculate the greatest decrease in losses (date and amount) over the entire period.\n",
    "    \n",
    "print(total_pnl)"
   ]
  },
  {
   "cell_type": "code",
   "execution_count": null,
   "id": "d3eecc30-b961-4826-b7fd-215b56adbda5",
   "metadata": {},
   "outputs": [],
   "source": []
  }
 ],
 "metadata": {
  "kernelspec": {
   "display_name": "Python 3 (ipykernel)",
   "language": "python",
   "name": "python3"
  },
  "language_info": {
   "codemirror_mode": {
    "name": "ipython",
    "version": 3
   },
   "file_extension": ".py",
   "mimetype": "text/x-python",
   "name": "python",
   "nbconvert_exporter": "python",
   "pygments_lexer": "ipython3",
   "version": "3.7.13"
  }
 },
 "nbformat": 4,
 "nbformat_minor": 5
}
