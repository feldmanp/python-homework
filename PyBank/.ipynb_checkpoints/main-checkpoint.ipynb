{
 "cells": [
  {
   "cell_type": "markdown",
   "id": "3787db8e-a354-4599-9f6d-b322f1bc7662",
   "metadata": {},
   "source": [
    "1. Read CSV File into Dictionary"
   ]
  },
  {
   "cell_type": "code",
   "execution_count": 2,
   "id": "7d0d8fda-65a7-441d-88f5-5176c03fcacf",
   "metadata": {},
   "outputs": [],
   "source": [
    "import csv\n",
    "\n",
    "#initialise variables\n",
    "budget_months = {}\n",
    "\n",
    "with open(\"Resources/budget_data.csv\") as budget_data_file:\n",
    "    csvreader = csv.reader(budget_data_file)\n",
    "\n",
    "    #Skipping the header \n",
    "    next(csvreader)\n",
    "\n",
    "    #Reading the days into a dictionary \n",
    "    for row in csvreader:\n",
    "        budget_months[row[0]]=row[1] "
   ]
  },
  {
   "cell_type": "markdown",
   "id": "73af80b5-c262-4a0f-83ff-c9db54d535d6",
   "metadata": {},
   "source": [
    "2. Perform the calculations"
   ]
  },
  {
   "cell_type": "code",
   "execution_count": 3,
   "id": "c873e7b0-8e21-4618-a6cb-18eaf9b6dff8",
   "metadata": {},
   "outputs": [],
   "source": [
    "#initialise variables\n",
    "total_num_of_months = 0\n",
    "total_pnl = 0\n",
    "average_pnl_changes = 0\n",
    "sum_pnl_changes = 0\n",
    "greatest_profit_increase = [0,0]\n",
    "greatest_profit_decrease = [0,0]\n",
    "previous_pnl = 0\n",
    "profit_change = 0\n",
    "\n",
    "#Calculate the total number of months included in the dataset\n",
    "total_num_of_months = len(budget_months)\n",
    "\n",
    "#iterating over the dictionary to calculate the rest of the variables\n",
    "for month,pnl in budget_months.items():\n",
    "    pnl = int(pnl)\n",
    "    \n",
    "    #Calculate the net total amount of Profit/Losses over the entire period\n",
    "    total_pnl += pnl\n",
    "    \n",
    "    #Calculate the total of the changes in Profit/Losses over the entire period\n",
    "    if previous_pnl!=0:\n",
    "        profit_change = pnl-previous_pnl\n",
    "        sum_pnl_changes += profit_change\n",
    "    previous_pnl = pnl\n",
    "    \n",
    "    \n",
    "    #Calculate the greatest increase in profits (date and amount) over the entire period\n",
    "    if greatest_profit_increase[1] < profit_change:\n",
    "        greatest_profit_increase[0] = month\n",
    "        greatest_profit_increase[1] = profit_change\n",
    "\n",
    "    #Calculate the greatest decrease in losses (date and amount) over the entire period\n",
    "    if greatest_profit_decrease[1] > profit_change:\n",
    "        greatest_profit_decrease[0] = month\n",
    "        greatest_profit_decrease[1] = profit_change\n",
    "        \n",
    "#Calculate the total of the changes in Profit/Losses over the entire period.\n",
    "average_pnl_changes = sum_pnl_changes/(total_num_of_months-1)"
   ]
  },
  {
   "cell_type": "markdown",
   "id": "356ec3b1-b00e-46e8-988d-98fef847c409",
   "metadata": {},
   "source": [
    "3. Store the results in a list"
   ]
  },
  {
   "cell_type": "code",
   "execution_count": 4,
   "id": "8e616ae4-4c79-4c5a-ad80-bba87f656af5",
   "metadata": {},
   "outputs": [],
   "source": [
    "results = []\n",
    "results.append(\"Financial Analysis\")\n",
    "results.append(\"----------------------------\")\n",
    "results.append(f\"Total Months: {total_num_of_months}\")\n",
    "results.append(f\"Total: {total_pnl}\")\n",
    "results.append(f\"Average Change: {round(average_pnl_changes,2)}\")\n",
    "results.append(f\"Greatest Increase in Profits: {greatest_profit_increase[0]} (${greatest_profit_increase[1]})\")\n",
    "results.append(f\"Greatest Decrease in Profits: {greatest_profit_decrease[0]} (${greatest_profit_decrease[1]})\")"
   ]
  },
  {
   "cell_type": "markdown",
   "id": "c29fe774-79ce-47d3-9008-b028810f2666",
   "metadata": {},
   "source": [
    "4. Print to a terminal"
   ]
  },
  {
   "cell_type": "code",
   "execution_count": 5,
   "id": "174fdc26-57dd-40cc-b39e-b015b3431403",
   "metadata": {},
   "outputs": [
    {
     "name": "stdout",
     "output_type": "stream",
     "text": [
      "Financial Analysis\n",
      "----------------------------\n",
      "Total Months: 86\n",
      "Total: 38382578\n",
      "Average Change: -2315.12\n",
      "Greatest Increase in Profits: Feb-2012 ($1926159)\n",
      "Greatest Decrease in Profits: Sep-2013 ($-2196167)\n"
     ]
    }
   ],
   "source": [
    "for line in results:\n",
    "    print(line)"
   ]
  },
  {
   "cell_type": "markdown",
   "id": "df8d70c3-e726-410a-93b6-96cb64ed775b",
   "metadata": {},
   "source": [
    "5. Write to a file"
   ]
  },
  {
   "cell_type": "code",
   "execution_count": 6,
   "id": "84643a32-e939-4583-b4ec-3185393de62f",
   "metadata": {},
   "outputs": [],
   "source": [
    "#Create a file\n",
    "with open('pyBank_output.txt', 'w') as f:\n",
    "    for line in results:\n",
    "        f.write(line)\n",
    "        f.write('\\n')"
   ]
  },
  {
   "cell_type": "code",
   "execution_count": null,
   "id": "efc9cde1-9ef5-45b8-b96b-3b012698c7a8",
   "metadata": {},
   "outputs": [],
   "source": []
  }
 ],
 "metadata": {
  "kernelspec": {
   "display_name": "Python 3 (ipykernel)",
   "language": "python",
   "name": "python3"
  },
  "language_info": {
   "codemirror_mode": {
    "name": "ipython",
    "version": 3
   },
   "file_extension": ".py",
   "mimetype": "text/x-python",
   "name": "python",
   "nbconvert_exporter": "python",
   "pygments_lexer": "ipython3",
   "version": "3.9.12"
  }
 },
 "nbformat": 4,
 "nbformat_minor": 5
}
